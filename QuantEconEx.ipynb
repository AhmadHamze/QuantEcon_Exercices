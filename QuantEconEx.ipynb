{
 "cells": [
  {
   "cell_type": "markdown",
   "metadata": {},
   "source": [
    "$\\large\\textbf{I. An Introductory Example}$"
   ]
  },
  {
   "cell_type": "code",
   "execution_count": 1,
   "metadata": {},
   "outputs": [
    {
     "data": {
      "text/plain": [
       "3628800"
      ]
     },
     "execution_count": 1,
     "metadata": {},
     "output_type": "execute_result"
    }
   ],
   "source": [
    "#Exercice 1\n",
    "\n",
    "def factorial(n):\n",
    "    if n == 0:\n",
    "        return 1\n",
    "    a = 1\n",
    "    for i in range(2,n+1):\n",
    "        a *= i\n",
    "    return a\n",
    "\n",
    "factorial(10)"
   ]
  },
  {
   "cell_type": "markdown",
   "metadata": {},
   "source": [
    "A function that generates one draw of the binomial random variable $Y \\sim Bin(n,p) $"
   ]
  },
  {
   "cell_type": "code",
   "execution_count": 2,
   "metadata": {},
   "outputs": [
    {
     "name": "stdout",
     "output_type": "stream",
     "text": [
      "29,30,27,43,33,25,25,39,25,33,24,31,27,33,32,28,31,31,29,21,26,22,27,27,26,30,34,26,26,31,26,34,23,34,27,33,30,31,26,35,31,27,32,36,34,25,32,27,37,28,24,24,27,29,31,30,35,20,37,39,28,36,35,31,27,24,34,31,34,34,37,32,23,28,22,29,31,31,34,30,29,29,31,41,38,28,31,21,32,36,22,28,28,30,26,34,26,29,27,29,"
     ]
    }
   ],
   "source": [
    "#Exercice 2\n",
    "\n",
    "from numpy.random import uniform\n",
    "def binomial_rv(n,p):\n",
    "    return sum([uniform(0,1) < p for _ in range(n)])\n",
    "for _ in range(100):\n",
    "    print(binomial_rv(100,0.3),end=\",\")"
   ]
  },
  {
   "cell_type": "markdown",
   "metadata": {},
   "source": [
    "$\\textbf{An approximation of $\\pi$ using the Monte-Carlo simulation}.$\n",
    "\n",
    "The main idea is to create a disk inscribed in a square, then randomly generate a lot of points. The proportion\n",
    "of dots that are within the disk represent it's area, and because we know the radius of the disk, we can approximate $\\pi$.\n",
    "\n",
    "We will be creating an array containing many couples of variables representing the coordinates of each point,\n",
    "then we calculate whether the point is within the disk or not.\n",
    "Each point $(x,y)$ is a bivariate uniform random variable on the unit square, $(x,y)\\in (0,1)^2$, and the disk is defined by\n",
    "$$\\left \\{(x,y)\\in \\mathbb{R} ; \\left(x-\\dfrac{1}{2}\\right)^2 + \\left(y-\\dfrac{1}{2}\\right)^2 \\leq \\left(\\dfrac{1}{2}\\right)^2 \\right \\}$$\n",
    "The more points we have the better the approximation."
   ]
  },
  {
   "cell_type": "code",
   "execution_count": 16,
   "metadata": {},
   "outputs": [
    {
     "data": {
      "text/plain": [
       "3.14308"
      ]
     },
     "execution_count": 16,
     "metadata": {},
     "output_type": "execute_result"
    }
   ],
   "source": [
    "#Exercice 3\n",
    "\n",
    "import numpy as np\n",
    "\n",
    "def monte_carlo_pi(trials):\n",
    "    b_uniform = ((np.random.uniform(0,1), np.random.uniform(0,1)) for _ in range(trials))\n",
    "    s = sum(((x-0.5)**2 + (y-0.5)**2 <= 0.25 for x,y in b_uniform))\n",
    "    return 4*s/trials\n",
    "monte_carlo_pi(100000)"
   ]
  },
  {
   "cell_type": "code",
   "execution_count": null,
   "metadata": {},
   "outputs": [],
   "source": []
  }
 ],
 "metadata": {
  "kernelspec": {
   "display_name": "Python 3",
   "language": "python",
   "name": "python3"
  },
  "language_info": {
   "codemirror_mode": {
    "name": "ipython",
    "version": 3
   },
   "file_extension": ".py",
   "mimetype": "text/x-python",
   "name": "python",
   "nbconvert_exporter": "python",
   "pygments_lexer": "ipython3",
   "version": "3.7.3"
  }
 },
 "nbformat": 4,
 "nbformat_minor": 2
}
