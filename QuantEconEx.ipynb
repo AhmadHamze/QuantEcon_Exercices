{
 "cells": [
  {
   "cell_type": "markdown",
   "metadata": {},
   "source": [
    "# I. Introduction to python"
   ]
  },
  {
   "cell_type": "markdown",
   "metadata": {},
   "source": [
    "## 1. An Introductory example"
   ]
  },
  {
   "cell_type": "code",
   "execution_count": 1,
   "metadata": {},
   "outputs": [
    {
     "data": {
      "text/plain": [
       "3628800"
      ]
     },
     "execution_count": 1,
     "metadata": {},
     "output_type": "execute_result"
    }
   ],
   "source": [
    "#Exercice 1\n",
    "\n",
    "def factorial(n):\n",
    "    if n == 0:\n",
    "        return 1\n",
    "    a = 1\n",
    "    for i in range(2,n+1):\n",
    "        a *= i\n",
    "    return a\n",
    "\n",
    "factorial(10)"
   ]
  },
  {
   "cell_type": "markdown",
   "metadata": {},
   "source": [
    "A function that generates one draw of the binomial random variable $Y \\sim Bin(n,p).$<br>\n",
    "If $\\textbf{U}$ is uniform on $(0,1)$ and $p \\in (0,1)$, then the expression $U < p$ evaluates to True with probability $p$."
   ]
  },
  {
   "cell_type": "code",
   "execution_count": 2,
   "metadata": {},
   "outputs": [
    {
     "name": "stdout",
     "output_type": "stream",
     "text": [
      "29,25,35,40,31,35,21,33,26,37,32,31,33,30,33,32,26,35,28,33,36,34,28,31,32,39,35,34,36,31,34,25,27,21,28,38,26,20,27,37,31,21,29,28,31,30,34,30,18,28,33,28,35,35,33,29,31,30,35,32,32,33,35,24,24,27,24,37,29,42,31,33,36,33,30,33,31,36,27,25,35,33,26,33,33,34,26,23,30,31,31,31,32,29,29,27,24,31,31,31,"
     ]
    }
   ],
   "source": [
    "#Exercice 2\n",
    "\n",
    "from numpy.random import uniform\n",
    "def binomial_rv(n,p):\n",
    "    return sum([uniform(0,1) < p for _ in range(n)])\n",
    "for _ in range(100):\n",
    "    print(binomial_rv(100,0.3),end=\",\")"
   ]
  },
  {
   "cell_type": "markdown",
   "metadata": {},
   "source": [
    "$\\textbf{An approximation of $\\pi$ using the Monte-Carlo simulation}.$\n",
    "\n",
    "The main idea is to create a disk inscribed in a square, then randomly generate a lot of points. The proportion\n",
    "of dots that are within the disk represent it's area, and because we know the radius of the disk, we can approximate $\\pi$.\n",
    "\n",
    "We will be creating an array containing many couples of variables representing the coordinates of each point,\n",
    "then we calculate whether the point is within the disk or not.\n",
    "Each point $(x,y)$ is a bivariate uniform random variable on the unit square, $(x,y)\\in (0,1)^2$, and the disk is defined by\n",
    "$$\\left \\{(x,y)\\in \\mathbb{R}^2 ; \\left(x-\\dfrac{1}{2}\\right)^2 + \\left(y-\\dfrac{1}{2}\\right)^2 \\leq \\left(\\dfrac{1}{2}\\right)^2 \\right \\}$$\n",
    "The more points we have the better the approximation."
   ]
  },
  {
   "cell_type": "code",
   "execution_count": 3,
   "metadata": {},
   "outputs": [
    {
     "data": {
      "text/plain": [
       "3.1456"
      ]
     },
     "execution_count": 3,
     "metadata": {},
     "output_type": "execute_result"
    }
   ],
   "source": [
    "#Exercice 3\n",
    "\n",
    "import numpy as np\n",
    "\n",
    "def monte_carlo_pi(trials):\n",
    "    b_uniform = ((np.random.uniform(0,1), np.random.uniform(0,1)) for _ in range(trials))\n",
    "    s = sum(((x-0.5)**2 + (y-0.5)**2 <= 0.25 for x,y in b_uniform))\n",
    "    return 4*s/trials\n",
    "monte_carlo_pi(100000)"
   ]
  },
  {
   "cell_type": "markdown",
   "metadata": {},
   "source": [
    "A program that prints one realization of the following random device:\n",
    "\n",
    ">- Flip an unbiased coin 10 times.\n",
    ">- If 3 consecutive heads occur one or more times within this sequence, pay one dollar.\n",
    ">- If not, pay nothing."
   ]
  },
  {
   "cell_type": "code",
   "execution_count": 4,
   "metadata": {},
   "outputs": [
    {
     "data": {
      "text/plain": [
       "'pay 1 dollar: [False, True, True, True, False, False, False, True, False, False]'"
      ]
     },
     "execution_count": 4,
     "metadata": {},
     "output_type": "execute_result"
    }
   ],
   "source": [
    "#Exercice 4\n",
    "\n",
    "def random_device(flips=10,p=0.5): #You can change the number of flips and the probability of getting heads.\n",
    "    results = [uniform(0,1) < p for _ in range(flips)] #A flip is simulated using the uniform distribution.\n",
    "    counter = 0\n",
    "    for e in results:\n",
    "        if e==True:\n",
    "            counter += 1\n",
    "        else:\n",
    "            counter = 0\n",
    "        if counter == 3: #Once you have 3 consecutive heads, pay one dollar\n",
    "            return f\"pay 1 dollar: {results}\"\n",
    "    return f\"pay 0 dollar: {results}\"\n",
    "random_device()    "
   ]
  },
  {
   "cell_type": "markdown",
   "metadata": {},
   "source": [
    "Simulation and plot of the correlated time series:<br>\n",
    "$$\\displaystyle{x_{t+1}=\\alpha x_{t}+\\epsilon_{t+1}} \\hspace{1cm} s.t. \\hspace{1cm} x_{0}=0 \\hspace{1cm} and \\hspace{1cm} t=0,\\cdots,T$$\n",
    "The sequence of shocks $\\left\\{\\epsilon_{t} \\right\\}$ is assumed to be i.i.d and standard normal."
   ]
  },
  {
   "cell_type": "code",
   "execution_count": 5,
   "metadata": {},
   "outputs": [
    {
     "data": {
      "image/png": "[encoded data removed]",
      "text/plain": [
       "<Figure size 432x288 with 1 Axes>"
      ]
     },
     "metadata": {
      "needs_background": "light"
     },
     "output_type": "display_data"
    }
   ],
   "source": [
    "#Execrice 5\n",
    "\n",
    "import matplotlib.pyplot as plt\n",
    "%matplotlib inline\n",
    "\n",
    "def c_time_series(x0=0,alpha=0.9,time_range=200):# initial values: alpha =0.9, x0=0 and T=200\n",
    "    results = [x0]\n",
    "    for i in range(time_range):\n",
    "        results.append((lambda x:alpha*x + np.random.randn())(results[-1]))# randn() is equivalent to normal(0,1)\n",
    "    return (range(time_range+1),results)# This way you can change the time range, x0 and alpha\n",
    "plt.plot(*c_time_series(),label='correlated time series')# ploting  [x=0,...,T;y=x0,...,xT]\n",
    "plt.legend()\n",
    "plt.show()"
   ]
  },
  {
   "cell_type": "markdown",
   "metadata": {},
   "source": [
    "A modulo randomness photo generated using the function in exercice 5"
   ]
  },
  {
   "cell_type": "code",
   "execution_count": 6,
   "metadata": {},
   "outputs": [
    {
     "data": {
      "image/png": "[encoded data removed]",
      "text/plain": [
       "<Figure size 432x288 with 1 Axes>"
      ]
     },
     "metadata": {
      "needs_background": "light"
     },
     "output_type": "display_data"
    }
   ],
   "source": [
    "#Exercice 6\n",
    "\n",
    "plt.plot(*c_time_series(alpha=0.0),label='α = 0.0')\n",
    "plt.plot(*c_time_series(alpha=0.8),label='α = 0.8')\n",
    "plt.plot(*c_time_series(alpha=0.98),label='α = 0.98')\n",
    "plt.legend()\n",
    "plt.show()"
   ]
  },
  {
   "cell_type": "markdown",
   "metadata": {},
   "source": [
    "## 2. Python essentials"
   ]
  },
  {
   "cell_type": "code",
   "execution_count": 7,
   "metadata": {},
   "outputs": [
    {
     "name": "stdout",
     "output_type": "stream",
     "text": [
      "-286\n",
      "17\n",
      "3\n"
     ]
    }
   ],
   "source": [
    "# Exercice 1\n",
    "\n",
    "#part 1 (inner product of two lists)\n",
    "from random import randrange\n",
    "\n",
    "def inner_product(l1,l2):\n",
    "    if len(l1) != len(l2):\n",
    "        return \"lists needs to be of same size\"\n",
    "    return sum(i*j for i,j in zip(l1,l2))\n",
    "l1 = [randrange(0,20) for _ in range(10)]\n",
    "l2 = [randrange(-10,10) for _ in range(10)]\n",
    "print(inner_product(l1,l2))\n",
    "\n",
    "#part 2 (count the number of even numbers within a sequence in one line)\n",
    "print((lambda l:sum(i%2 == 0 for i in l))(range(10,110,3)))\n",
    "\n",
    "#part 3 (given a pair ((a,b),(c,d),(e,f),...) count the number of pairs (x,y) such that both x and y are even)\n",
    "l = ((2,4),(6,5),(8,8),(0,9),(13,12),(1,1),(4,160))\n",
    "print((lambda l:sum([x%2 == 0 and y%2 == 0 for x,y in l]))(l))"
   ]
  },
  {
   "cell_type": "code",
   "execution_count": 8,
   "metadata": {},
   "outputs": [
    {
     "name": "stdout",
     "output_type": "stream",
     "text": [
      "(1.1102230246251565e-16+0j)\n"
     ]
    }
   ],
   "source": [
    "#Exercice 2\n",
    "\n",
    "from math import sqrt\n",
    "def p(x, coeff):\n",
    "    return sum([element*(x)**i for i,element in enumerate(coeff)])\n",
    "\n",
    "l = [1,1,1]\n",
    "print(p(complex(-0.5,sqrt(3)/2),l))"
   ]
  },
  {
   "cell_type": "code",
   "execution_count": 9,
   "metadata": {},
   "outputs": [
    {
     "data": {
      "text/plain": [
       "3"
      ]
     },
     "execution_count": 9,
     "metadata": {},
     "output_type": "execute_result"
    }
   ],
   "source": [
    "#Exercice 3\n",
    "\n",
    "def count_capital_letters(s):\n",
    "    return sum([e == e.upper() for e in s if e.isalpha()])\n",
    "\n",
    "count_capital_letters('Hola AmIgo!')"
   ]
  },
  {
   "cell_type": "code",
   "execution_count": 10,
   "metadata": {},
   "outputs": [
    {
     "name": "stdout",
     "output_type": "stream",
     "text": [
      "True\n",
      "False\n"
     ]
    }
   ],
   "source": [
    "#Exercice 4\n",
    "\n",
    "def is_included(seq_a,seq_b):\n",
    "    for i in seq_a:\n",
    "        if i not in seq_b:\n",
    "            return False\n",
    "        continue\n",
    "    return True\n",
    "print(is_included('abcd','redsqazwxvcvb'))\n",
    "print(is_included([1,6,9],[2,3,4,5,90,7,7,6,0,1]))"
   ]
  },
  {
   "cell_type": "markdown",
   "metadata": {},
   "source": [
    "**Approximation of the value of $f(x)$ using linear interpolation**<br>\n",
    "\n",
    "The following exercice calculates the value of a function $f$ at a certain point $x\\in\\left[a,b\\right]\\subset\\mathbb{R}$.\n",
    "The function \"interval_partition\" is used to divide the interval $\\left[a,b\\right]$ to $n$ equal sub-intervals, the function \"closest_points\" finds the closest points $\\alpha,\\beta \\in \\left[a,b\\right]$ s.t $\\alpha < x < \\beta$.<br>\n",
    "The main idea behind linear interpolation is to suppose that $f(x)$ is on the strait line joining $f(\\alpha)$ and $f(\\beta)$, then calculate $f(x)$ using the slope of the line: \n",
    "$$f(x) = \\dfrac{f(\\beta) - f(\\alpha)}{\\beta - \\alpha}\\left(x-\\alpha\\right) + f(\\alpha)$$"
   ]
  },
  {
   "cell_type": "code",
   "execution_count": 11,
   "metadata": {},
   "outputs": [
    {
     "name": "stdout",
     "output_type": "stream",
     "text": [
      "Approximation error: -0.008843999999999852\n"
     ]
    }
   ],
   "source": [
    "#Exercice 5\n",
    "\n",
    "def f(val):\n",
    "    return val**2 + val/2 - 1\n",
    "\n",
    "def interval_partition(interval,grid_size):\n",
    "    step = (len(interval)-1)/grid_size\n",
    "    result = [interval[0]]\n",
    "    for _ in range(grid_size-1):\n",
    "        result.append(result[-1]+step)\n",
    "    return result\n",
    "\n",
    "def closest_points(x,l):\n",
    "    for e in l:\n",
    "        if x>e:\n",
    "            continue\n",
    "        return (l[l.index(e)-1],e)\n",
    "def linapprox(f,a,b,n,x):\n",
    "    interval = interval_partition(range(a,b+1),n)\n",
    "    α,β = closest_points(x,interval)\n",
    "    return ((f(β) - f(α))/(β - α))*(x-α) + f(α)\n",
    "\n",
    "print(f'Approximation error: {f(-3.666) - linapprox(f,-10,10,100,-3.666)}')"
   ]
  },
  {
   "cell_type": "markdown",
   "metadata": {},
   "source": [
    "## 3. OOP: Building classes"
   ]
  },
  {
   "cell_type": "markdown",
   "metadata": {},
   "source": [
    "The empirical cumulative distribution function corresponding to sample $\\left\\{ X_i\\right\\}_{i=1}^n$ is defined as:\n",
    "$$F_n(x) = \\displaystyle{\\frac{1}{n}\\sum_{i=1}^n\\mathbb{1}_\\left\\{X_i\\leq x\\right\\} }\\hspace{1cm}(x\\in\\mathbb{R}) $$\n",
    "$F_n(x)$ is the fraction of the sample that falls below $x$.<br>\n",
    "The Glivenko–Cantelli Theorem states that, provided that the sample is IID, the ecdf $F_n$ converges to the true distribution function $F$."
   ]
  },
  {
   "cell_type": "code",
   "execution_count": 27,
   "metadata": {},
   "outputs": [
    {
     "name": "stdout",
     "output_type": "stream",
     "text": [
      "0.6\n",
      "0.497\n"
     ]
    }
   ],
   "source": [
    "#Exercice 1\n",
    "\n",
    "from random import uniform\n",
    "\n",
    "class ECDF:\n",
    "    def __init__(self,observations):\n",
    "        self.observations = observations\n",
    "    \n",
    "    def __call__(self,x):\n",
    "        return sum([o <= x for o in self.observations])/len(self.observations)\n",
    "\n",
    "F = ECDF([uniform(0,1) for i in range(10)])\n",
    "print(F(0.5)) #This will be far from x\n",
    "F.observations = [uniform(0,1) for i in range(1000)]\n",
    "print(F(0.5)) #This should be close to x "
   ]
  },
  {
   "cell_type": "code",
   "execution_count": 20,
   "metadata": {},
   "outputs": [
    {
     "name": "stdout",
     "output_type": "stream",
     "text": [
      "216\n",
      "108\n"
     ]
    }
   ],
   "source": [
    "#Exercice 2\n",
    "\n",
    "class Polynomial:\n",
    "    def __init__(self,coefficients):\n",
    "        self.coefficients = coefficients\n",
    "    \n",
    "    def __call__(self,x):\n",
    "        return sum([c*x**i for i,c in enumerate(self.coefficients)])\n",
    "    \n",
    "    def derivative(self,x):\n",
    "        self.coefficients = [c*i for i,c in enumerate(self.coefficients[1:],1)]\n",
    "        return self(x)\n",
    "p = Polynomial([1,3,3,1])\n",
    "print(p(5))\n",
    "print(p.derivative(5))"
   ]
  }
 ],
 "metadata": {
  "kernelspec": {
   "display_name": "Python 3",
   "language": "python",
   "name": "python3"
  },
  "language_info": {
   "codemirror_mode": {
    "name": "ipython",
    "version": 3
   },
   "file_extension": ".py",
   "mimetype": "text/x-python",
   "name": "python",
   "nbconvert_exporter": "python",
   "pygments_lexer": "ipython3",
   "version": "3.7.3"
  }
 },
 "nbformat": 4,
 "nbformat_minor": 2
}
