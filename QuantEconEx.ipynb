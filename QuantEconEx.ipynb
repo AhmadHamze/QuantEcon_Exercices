{
 "cells": [
  {
   "cell_type": "markdown",
   "metadata": {},
   "source": [
    "$\\large\\textbf{I. An Introductory Example}$"
   ]
  },
  {
   "cell_type": "code",
   "execution_count": 7,
   "metadata": {},
   "outputs": [
    {
     "data": {
      "text/plain": [
       "3628800"
      ]
     },
     "execution_count": 7,
     "metadata": {},
     "output_type": "execute_result"
    }
   ],
   "source": [
    "#Exercice 1\n",
    "\n",
    "def factorial(n):\n",
    "    if n == 0:\n",
    "        return 1\n",
    "    a = 1\n",
    "    for i in range(2,n+1):\n",
    "        a *= i\n",
    "    return a\n",
    "\n",
    "factorial(10)"
   ]
  },
  {
   "cell_type": "markdown",
   "metadata": {},
   "source": [
    "A function that generates one draw of the binomial random variable $Y \\sim Bin(n,p) $"
   ]
  },
  {
   "cell_type": "code",
   "execution_count": 8,
   "metadata": {},
   "outputs": [
    {
     "name": "stdout",
     "output_type": "stream",
     "text": [
      "32,28,35,26,29,35,34,27,26,37,30,32,32,33,25,26,27,23,32,29,38,36,32,32,33,38,30,27,32,36,26,29,22,28,30,33,40,27,26,28,25,27,29,29,32,35,33,32,34,34,37,20,31,28,21,42,38,33,27,26,34,29,30,29,30,25,27,23,42,35,27,24,31,33,29,33,21,32,35,28,33,27,24,24,36,27,27,19,22,29,29,33,30,40,29,34,23,23,34,33,"
     ]
    }
   ],
   "source": [
    "#Exercice 2\n",
    "\n",
    "from numpy.random import uniform\n",
    "def binomial_rv(n,p):\n",
    "    return sum([uniform(0,1) < p for _ in range(n)])\n",
    "for _ in range(100):\n",
    "    print(binomial_rv(100,0.3),end=\",\")"
   ]
  },
  {
   "cell_type": "markdown",
   "metadata": {},
   "source": [
    "An approximation of $\\pi$ "
   ]
  },
  {
   "cell_type": "code",
   "execution_count": null,
   "metadata": {},
   "outputs": [],
   "source": [
    "#Exercice 3\n",
    "\n"
   ]
  }
 ],
 "metadata": {
  "kernelspec": {
   "display_name": "Python 3",
   "language": "python",
   "name": "python3"
  },
  "language_info": {
   "codemirror_mode": {
    "name": "ipython",
    "version": 3
   },
   "file_extension": ".py",
   "mimetype": "text/x-python",
   "name": "python",
   "nbconvert_exporter": "python",
   "pygments_lexer": "ipython3",
   "version": "3.7.3"
  }
 },
 "nbformat": 4,
 "nbformat_minor": 2
}
